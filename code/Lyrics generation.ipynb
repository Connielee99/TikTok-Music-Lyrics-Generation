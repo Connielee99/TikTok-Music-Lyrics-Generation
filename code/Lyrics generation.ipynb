{
 "cells": [
  {
   "cell_type": "code",
   "execution_count": 3,
   "metadata": {},
   "outputs": [],
   "source": [
    "import os\n",
    "import numpy as np\n",
    "import tensorflow as tf\n",
    "tf.enable_eager_execution()"
   ]
  },
  {
   "cell_type": "code",
   "execution_count": 4,
   "metadata": {},
   "outputs": [],
   "source": [
    "data_dir = os.path.join(os.path.dirname(os.getcwd()), 'data/lyrics')"
   ]
  },
  {
   "cell_type": "code",
   "execution_count": 5,
   "metadata": {},
   "outputs": [],
   "source": [
    "text_all = ''\n",
    "for song in os.listdir(data_dir):\n",
    "    if song.endswith('.txt'):\n",
    "        text = open(os.path.join(data_dir, song), mode = 'rb').read().decode(encoding = \"utf-8\")\n",
    "        text_all += text"
   ]
  },
  {
   "cell_type": "code",
   "execution_count": 6,
   "metadata": {},
   "outputs": [
    {
     "name": "stdout",
     "output_type": "stream",
     "text": [
      "2007 unique characters\n"
     ]
    }
   ],
   "source": [
    "vocab = sorted(set(text_all))\n",
    "print ('{} unique characters'.format(len(vocab)))"
   ]
  },
  {
   "cell_type": "code",
   "execution_count": 7,
   "metadata": {},
   "outputs": [],
   "source": [
    "char2idx = {u:i for i, u in enumerate(vocab)}\n",
    "idx2char = np.array(vocab)\n",
    "\n",
    "text_as_int = np.array([char2idx[c] for c in text_all])"
   ]
  },
  {
   "cell_type": "code",
   "execution_count": 8,
   "metadata": {},
   "outputs": [],
   "source": [
    "seq_length = 100\n",
    "examples_per_epoch = len(text_all) // seq_length\n",
    "\n",
    "char_dataset = tf.data.Dataset.from_tensor_slices(text_as_int)"
   ]
  },
  {
   "cell_type": "code",
   "execution_count": 9,
   "metadata": {},
   "outputs": [],
   "source": [
    "def split_input_target(chunk):\n",
    "    input_text = chunk[:-1]\n",
    "    target_text = chunk[1:]\n",
    "    return input_text, target_text\n",
    "\n",
    "sequences = char_dataset.batch(seq_length + 1, drop_remainder = True)\n",
    "dataset = sequences.map(split_input_target)"
   ]
  },
  {
   "cell_type": "code",
   "execution_count": 10,
   "metadata": {},
   "outputs": [],
   "source": [
    "BATCH_SIZE = 64\n",
    "steps_per_epoch = examples_per_epoch // BATCH_SIZE\n",
    "BUFFER_SIZE = 10000\n",
    "dataset = dataset.shuffle(BUFFER_SIZE).batch(BATCH_SIZE, drop_remainder = True)"
   ]
  },
  {
   "cell_type": "code",
   "execution_count": 11,
   "metadata": {},
   "outputs": [],
   "source": [
    "vocab_size = len(vocab)\n",
    "embedding_dim = 256\n",
    "rnn_units = 1024 "
   ]
  },
  {
   "cell_type": "code",
   "execution_count": 12,
   "metadata": {},
   "outputs": [],
   "source": [
    "if tf.test.is_gpu_available():\n",
    "    rnn = tf.keras.layers.CuDNNGRU\n",
    "    rnn2 = tf.keras.layers.CuDNNGRU\n",
    "else:\n",
    "    import functools\n",
    "    rnn = functools.partial(tf.keras.layers.GRU, recurrent_activation = 'sigmoid')"
   ]
  },
  {
   "cell_type": "code",
   "execution_count": 13,
   "metadata": {},
   "outputs": [],
   "source": [
    "def build_model(vocab_size, embedding_dim, lstm_units, batch_size):\n",
    "    model = tf.keras.Sequential([\n",
    "    tf.keras.layers.Embedding(vocab_size, embedding_dim, \n",
    "        batch_input_shape = [batch_size, None]),\n",
    "    rnn(rnn_units,\n",
    "        return_sequences = True, \n",
    "        recurrent_initializer = 'glorot_uniform',\n",
    "        stateful = True),\n",
    "#     rnn(rnn_units,\n",
    "#         return_sequences = True, \n",
    "#         recurrent_initializer = 'glorot_uniform',\n",
    "#         stateful = True),\n",
    "    tf.keras.layers.Dense(vocab_size)\n",
    "    ])\n",
    "    return model"
   ]
  },
  {
   "cell_type": "code",
   "execution_count": 15,
   "metadata": {},
   "outputs": [],
   "source": [
    "model = build_model(\n",
    "    vocab_size = len(vocab), \n",
    "    embedding_dim = embedding_dim, \n",
    "    lstm_units = rnn_units, \n",
    "    batch_size = BATCH_SIZE)"
   ]
  },
  {
   "cell_type": "code",
   "execution_count": 16,
   "metadata": {},
   "outputs": [],
   "source": [
    "def loss(labels, logits):\n",
    "    return tf.keras.losses.sparse_categorical_crossentropy(labels, logits, from_logits = True)"
   ]
  },
  {
   "cell_type": "code",
   "execution_count": 17,
   "metadata": {},
   "outputs": [],
   "source": [
    "model.compile(\n",
    "    optimizer = tf.train.AdamOptimizer(),\n",
    "    loss = loss)"
   ]
  },
  {
   "cell_type": "code",
   "execution_count": 18,
   "metadata": {},
   "outputs": [],
   "source": [
    "checkpoint_dir = './Lyrics_training'\n",
    "\n",
    "checkpoint_prefix = os.path.join(checkpoint_dir, \"ckpt_{epoch}\")\n",
    "\n",
    "checkpoint_callback = tf.keras.callbacks.ModelCheckpoint(\n",
    "    filepath = checkpoint_prefix,\n",
    "    save_weights_only = True)"
   ]
  },
  {
   "cell_type": "code",
   "execution_count": 19,
   "metadata": {},
   "outputs": [],
   "source": [
    "EPOCHS = 50"
   ]
  },
  {
   "cell_type": "code",
   "execution_count": 20,
   "metadata": {},
   "outputs": [
    {
     "name": "stdout",
     "output_type": "stream",
     "text": [
      "Epoch 1/50\n",
      "4/4 [==============================] - 18s 5s/step - loss: 7.5677\n",
      "Epoch 2/50\n",
      "4/4 [==============================] - 19s 5s/step - loss: 6.1845\n",
      "Epoch 3/50\n",
      "4/4 [==============================] - 19s 5s/step - loss: 5.8588\n",
      "Epoch 4/50\n",
      "4/4 [==============================] - 19s 5s/step - loss: 5.7655\n",
      "Epoch 5/50\n",
      "4/4 [==============================] - 21s 5s/step - loss: 5.6776\n",
      "Epoch 6/50\n",
      "4/4 [==============================] - 20s 5s/step - loss: 5.5701\n",
      "Epoch 7/50\n",
      "4/4 [==============================] - 21s 5s/step - loss: 5.5009\n",
      "Epoch 8/50\n",
      "4/4 [==============================] - 20s 5s/step - loss: 5.4603\n",
      "Epoch 9/50\n",
      "4/4 [==============================] - 19s 5s/step - loss: 5.4131\n",
      "Epoch 10/50\n",
      "4/4 [==============================] - 19s 5s/step - loss: 5.3759\n",
      "Epoch 11/50\n",
      "4/4 [==============================] - 19s 5s/step - loss: 5.3108\n",
      "Epoch 12/50\n",
      "4/4 [==============================] - 19s 5s/step - loss: 5.2346\n",
      "Epoch 13/50\n",
      "4/4 [==============================] - 19s 5s/step - loss: 5.1617\n",
      "Epoch 14/50\n",
      "4/4 [==============================] - 19s 5s/step - loss: 5.1125\n",
      "Epoch 15/50\n",
      "4/4 [==============================] - 19s 5s/step - loss: 5.0229\n",
      "Epoch 16/50\n",
      "4/4 [==============================] - 19s 5s/step - loss: 4.9341\n",
      "Epoch 17/50\n",
      "4/4 [==============================] - 19s 5s/step - loss: 4.8349\n",
      "Epoch 18/50\n",
      "4/4 [==============================] - 19s 5s/step - loss: 4.7757\n",
      "Epoch 19/50\n",
      "4/4 [==============================] - 19s 5s/step - loss: 4.7017\n",
      "Epoch 20/50\n",
      "4/4 [==============================] - 19s 5s/step - loss: 4.5942\n",
      "Epoch 21/50\n",
      "4/4 [==============================] - 19s 5s/step - loss: 4.4981\n",
      "Epoch 22/50\n",
      "4/4 [==============================] - 19s 5s/step - loss: 4.4212\n",
      "Epoch 23/50\n",
      "4/4 [==============================] - 19s 5s/step - loss: 4.3325\n",
      "Epoch 24/50\n",
      "4/4 [==============================] - 20s 5s/step - loss: 4.2454\n",
      "Epoch 25/50\n",
      "4/4 [==============================] - 19s 5s/step - loss: 4.1665\n",
      "Epoch 26/50\n",
      "4/4 [==============================] - 19s 5s/step - loss: 4.0492\n",
      "Epoch 27/50\n",
      "4/4 [==============================] - 19s 5s/step - loss: 3.9352\n",
      "Epoch 28/50\n",
      "4/4 [==============================] - 19s 5s/step - loss: 3.8418\n",
      "Epoch 29/50\n",
      "4/4 [==============================] - 19s 5s/step - loss: 3.7131\n",
      "Epoch 30/50\n",
      "4/4 [==============================] - 20s 5s/step - loss: 3.5957\n",
      "Epoch 31/50\n",
      "4/4 [==============================] - 22s 6s/step - loss: 3.4919\n",
      "Epoch 32/50\n",
      "4/4 [==============================] - 23s 6s/step - loss: 3.3971\n",
      "Epoch 33/50\n",
      "4/4 [==============================] - 23s 6s/step - loss: 3.2773\n",
      "Epoch 34/50\n",
      "4/4 [==============================] - 23s 6s/step - loss: 3.1603\n",
      "Epoch 35/50\n",
      "4/4 [==============================] - 22s 6s/step - loss: 3.0179\n",
      "Epoch 36/50\n",
      "4/4 [==============================] - 23s 6s/step - loss: 2.9414\n",
      "Epoch 37/50\n",
      "4/4 [==============================] - 23s 6s/step - loss: 2.8252\n",
      "Epoch 38/50\n",
      "4/4 [==============================] - 23s 6s/step - loss: 2.7203\n",
      "Epoch 39/50\n",
      "4/4 [==============================] - 23s 6s/step - loss: 2.5847\n",
      "Epoch 40/50\n",
      "4/4 [==============================] - 23s 6s/step - loss: 2.4601\n",
      "Epoch 41/50\n",
      "4/4 [==============================] - 23s 6s/step - loss: 2.3697\n",
      "Epoch 42/50\n",
      "4/4 [==============================] - 23s 6s/step - loss: 2.2803\n",
      "Epoch 43/50\n",
      "4/4 [==============================] - 23s 6s/step - loss: 2.1764\n",
      "Epoch 44/50\n",
      "4/4 [==============================] - 23s 6s/step - loss: 2.0463\n",
      "Epoch 45/50\n",
      "4/4 [==============================] - 23s 6s/step - loss: 1.9450\n",
      "Epoch 46/50\n",
      "4/4 [==============================] - 23s 6s/step - loss: 1.8351\n",
      "Epoch 47/50\n",
      "4/4 [==============================] - 23s 6s/step - loss: 1.7175\n",
      "Epoch 48/50\n",
      "4/4 [==============================] - 23s 6s/step - loss: 1.6452\n",
      "Epoch 49/50\n",
      "4/4 [==============================] - 23s 6s/step - loss: 1.5470\n",
      "Epoch 50/50\n",
      "4/4 [==============================] - 23s 6s/step - loss: 1.4675\n"
     ]
    }
   ],
   "source": [
    "history = model.fit(dataset.repeat(), epochs = EPOCHS, steps_per_epoch = steps_per_epoch, callbacks = [checkpoint_callback])"
   ]
  },
  {
   "cell_type": "code",
   "execution_count": 21,
   "metadata": {},
   "outputs": [
    {
     "data": {
      "text/plain": [
       "'./training\\\\ckpt_50'"
      ]
     },
     "execution_count": 21,
     "metadata": {},
     "output_type": "execute_result"
    }
   ],
   "source": [
    "tf.train.latest_checkpoint(checkpoint_dir)"
   ]
  },
  {
   "cell_type": "code",
   "execution_count": 22,
   "metadata": {},
   "outputs": [],
   "source": [
    "model = build_model(vocab_size, embedding_dim, rnn_units, batch_size=1)\n",
    "\n",
    "model.load_weights(tf.train.latest_checkpoint(checkpoint_dir))\n",
    "\n",
    "model.build(tf.TensorShape([1, None]))"
   ]
  },
  {
   "cell_type": "code",
   "execution_count": 23,
   "metadata": {},
   "outputs": [
    {
     "name": "stdout",
     "output_type": "stream",
     "text": [
      "Model: \"sequential_1\"\n",
      "_________________________________________________________________\n",
      "Layer (type)                 Output Shape              Param #   \n",
      "=================================================================\n",
      "embedding_1 (Embedding)      (1, None, 256)            513792    \n",
      "_________________________________________________________________\n",
      "gru_1 (GRU)                  (1, None, 1024)           3935232   \n",
      "_________________________________________________________________\n",
      "dense_1 (Dense)              (1, None, 2007)           2057175   \n",
      "=================================================================\n",
      "Total params: 6,506,199\n",
      "Trainable params: 6,506,199\n",
      "Non-trainable params: 0\n",
      "_________________________________________________________________\n"
     ]
    }
   ],
   "source": [
    "model.summary()"
   ]
  },
  {
   "cell_type": "code",
   "execution_count": 33,
   "metadata": {},
   "outputs": [],
   "source": [
    "def generate_text(model, start_string, temperature = 1, num_generate = 100):\n",
    "    \n",
    "    input_eval = [char2idx[s] for s in start_string]\n",
    "    input_eval = tf.expand_dims(input_eval, 0)\n",
    "\n",
    "    text_generated = []\n",
    "\n",
    "    model.reset_states()\n",
    "    for i in range(num_generate):\n",
    "        predictions = model(input_eval)\n",
    "        predictions = tf.squeeze(predictions, 0)\n",
    "        predictions = predictions / temperature\n",
    "        predicted_id = tf.multinomial(predictions, num_samples=1)[-1,0].numpy()\n",
    "        input_eval = tf.expand_dims([predicted_id], 0)\n",
    "        text_generated.append(idx2char[predicted_id])\n",
    "\n",
    "    return (start_string + ''.join(text_generated))"
   ]
  }
 ],
 "metadata": {
  "kernelspec": {
   "display_name": "Python 3",
   "language": "python",
   "name": "python3"
  },
  "language_info": {
   "codemirror_mode": {
    "name": "ipython",
    "version": 3
   },
   "file_extension": ".py",
   "mimetype": "text/x-python",
   "name": "python",
   "nbconvert_exporter": "python",
   "pygments_lexer": "ipython3",
   "version": "3.7.4"
  }
 },
 "nbformat": 4,
 "nbformat_minor": 2
}
