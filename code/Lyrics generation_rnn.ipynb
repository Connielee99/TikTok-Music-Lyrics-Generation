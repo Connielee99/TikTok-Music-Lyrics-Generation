{
 "cells": [
  {
   "cell_type": "code",
   "execution_count": 1,
   "metadata": {},
   "outputs": [
    {
     "name": "stdout",
     "output_type": "stream",
     "text": [
      "Requirement already satisfied: jieba in /home/yuz522/.local/lib/python3.7/site-packages (0.42.1)\r\n"
     ]
    }
   ],
   "source": [
    "!pip install jieba --user"
   ]
  },
  {
   "cell_type": "code",
   "execution_count": 2,
   "metadata": {},
   "outputs": [],
   "source": [
    "import os\n",
    "import jieba\n",
    "import numpy as np\n",
    "import tensorflow as tf\n",
    "import warnings\n",
    "tf.enable_eager_execution()\n",
    "warnings.filterwarnings('ignore')"
   ]
  },
  {
   "cell_type": "code",
   "execution_count": 3,
   "metadata": {},
   "outputs": [],
   "source": [
    "data_dir = os.path.join(os.path.dirname(os.getcwd()), 'data/lyrics')"
   ]
  },
  {
   "cell_type": "code",
   "execution_count": 4,
   "metadata": {},
   "outputs": [],
   "source": [
    "text_all = ''\n",
    "for song in os.listdir(data_dir):\n",
    "    if song.endswith('.txt'):\n",
    "        text = open(os.path.join(data_dir, song), mode = 'rb').read().decode(encoding = \"utf-8\")\n",
    "        text_all += text"
   ]
  },
  {
   "cell_type": "code",
   "execution_count": 5,
   "metadata": {},
   "outputs": [
    {
     "name": "stderr",
     "output_type": "stream",
     "text": [
      "Building prefix dict from the default dictionary ...\n",
      "Loading model from cache /tmp/jieba.cache\n",
      "Loading model cost 0.969 seconds.\n",
      "Prefix dict has been built successfully.\n"
     ]
    }
   ],
   "source": [
    "text_all = jieba.lcut(text_all)"
   ]
  },
  {
   "cell_type": "code",
   "execution_count": 6,
   "metadata": {},
   "outputs": [
    {
     "name": "stdout",
     "output_type": "stream",
     "text": [
      "3476 unique characters\n"
     ]
    }
   ],
   "source": [
    "vocab = sorted(set(text_all))\n",
    "print ('{} unique characters'.format(len(vocab)))"
   ]
  },
  {
   "cell_type": "code",
   "execution_count": 7,
   "metadata": {},
   "outputs": [],
   "source": [
    "char2idx = {u:i for i, u in enumerate(vocab)}\n",
    "idx2char = np.array(vocab)\n",
    "\n",
    "text_as_int = np.array([char2idx[c] for c in text_all])"
   ]
  },
  {
   "cell_type": "code",
   "execution_count": 8,
   "metadata": {},
   "outputs": [],
   "source": [
    "seq_length = 20\n",
    "examples_per_epoch = len(text_all) // seq_length\n",
    "\n",
    "char_dataset = tf.data.Dataset.from_tensor_slices(text_as_int)"
   ]
  },
  {
   "cell_type": "code",
   "execution_count": 9,
   "metadata": {},
   "outputs": [],
   "source": [
    "def split_input_target(chunk):\n",
    "    input_text = chunk[:-1]\n",
    "    target_text = chunk[1:]\n",
    "    return input_text, target_text\n",
    "\n",
    "sequences = char_dataset.batch(seq_length + 1, drop_remainder = True)\n",
    "dataset = sequences.map(split_input_target)"
   ]
  },
  {
   "cell_type": "code",
   "execution_count": 10,
   "metadata": {},
   "outputs": [],
   "source": [
    "BATCH_SIZE = 64\n",
    "steps_per_epoch = examples_per_epoch // BATCH_SIZE\n",
    "BUFFER_SIZE = 10000\n",
    "dataset = dataset.shuffle(BUFFER_SIZE).batch(BATCH_SIZE, drop_remainder = True)"
   ]
  },
  {
   "cell_type": "code",
   "execution_count": 11,
   "metadata": {},
   "outputs": [],
   "source": [
    "vocab_size = len(vocab)\n",
    "embedding_dim = 300\n",
    "rnn_units = 1024\n",
    "lstm_units = 1024"
   ]
  },
  {
   "cell_type": "code",
   "execution_count": 12,
   "metadata": {},
   "outputs": [],
   "source": [
    "rnn = tf.keras.layers.CuDNNGRU\n",
    "lstm = tf.keras.layers.CuDNNLSTM"
   ]
  },
  {
   "cell_type": "code",
   "execution_count": 13,
   "metadata": {},
   "outputs": [],
   "source": [
    "def build_model_lstm(vocab_size, embedding_dim, lstm_units, batch_size):\n",
    "    model = tf.keras.Sequential([\n",
    "    tf.keras.layers.Embedding(vocab_size, embedding_dim, \n",
    "        batch_input_shape = [batch_size, None]),\n",
    "    lstm(lstm_units,\n",
    "        return_sequences = True, \n",
    "        recurrent_initializer = 'glorot_uniform',\n",
    "        stateful = True),\n",
    "    lstm(lstm_units,\n",
    "        return_sequences = True, \n",
    "        recurrent_initializer = 'glorot_uniform',\n",
    "        stateful = True),\n",
    "    tf.keras.layers.Dense(vocab_size)\n",
    "    ])\n",
    "    return model"
   ]
  },
  {
   "cell_type": "code",
   "execution_count": 14,
   "metadata": {},
   "outputs": [],
   "source": [
    "def build_model_rnn(vocab_size, embedding_dim, rnn_units, batch_size):\n",
    "    model = tf.keras.Sequential([\n",
    "    tf.keras.layers.Embedding(vocab_size, embedding_dim, \n",
    "        batch_input_shape = [batch_size, None]),\n",
    "    rnn(rnn_units,\n",
    "        return_sequences = True, \n",
    "        recurrent_initializer = 'glorot_uniform',\n",
    "        stateful = True),\n",
    "    rnn(rnn_units,\n",
    "        return_sequences = True, \n",
    "        recurrent_initializer = 'glorot_uniform',\n",
    "        stateful = True),\n",
    "    tf.keras.layers.Dense(vocab_size)\n",
    "    ])\n",
    "    return model"
   ]
  },
  {
   "cell_type": "code",
   "execution_count": 15,
   "metadata": {},
   "outputs": [],
   "source": [
    "model_rnn = build_model_rnn(\n",
    "    vocab_size = len(vocab), \n",
    "    embedding_dim = embedding_dim, \n",
    "    rnn_units = rnn_units, \n",
    "    batch_size = BATCH_SIZE)"
   ]
  },
  {
   "cell_type": "code",
   "execution_count": 16,
   "metadata": {},
   "outputs": [],
   "source": [
    "model_lstm = build_model_lstm(\n",
    "    vocab_size = len(vocab),\n",
    "    embedding_dim = embedding_dim, \n",
    "    lstm_units = lstm_units,\n",
    "    batch_size = BATCH_SIZE)"
   ]
  },
  {
   "cell_type": "code",
   "execution_count": 17,
   "metadata": {},
   "outputs": [],
   "source": [
    "def loss(labels, logits):\n",
    "    return tf.keras.losses.sparse_categorical_crossentropy(labels, logits, from_logits = True)"
   ]
  },
  {
   "cell_type": "code",
   "execution_count": 18,
   "metadata": {},
   "outputs": [],
   "source": [
    "model_rnn.compile(\n",
    "    optimizer = tf.train.AdamOptimizer(),\n",
    "    loss = loss)"
   ]
  },
  {
   "cell_type": "code",
   "execution_count": 19,
   "metadata": {},
   "outputs": [],
   "source": [
    "model_lstm.compile(\n",
    "    optimizer = tf.train.AdamOptimizer(),\n",
    "    loss = loss)"
   ]
  },
  {
   "cell_type": "code",
   "execution_count": 20,
   "metadata": {},
   "outputs": [],
   "source": [
    "checkpoint_dir_rnn = './Lyrics_training_rnn'\n",
    "\n",
    "checkpoint_prefix_rnn = os.path.join(checkpoint_dir_rnn, \"ckpt_{epoch}\")\n",
    "\n",
    "checkpoint_callback_rnn = tf.keras.callbacks.ModelCheckpoint(\n",
    "    filepath = checkpoint_prefix_rnn,\n",
    "    save_weights_only = True)"
   ]
  },
  {
   "cell_type": "code",
   "execution_count": 21,
   "metadata": {},
   "outputs": [],
   "source": [
    "checkpoint_dir_lstm = './Lyrics_training_lstm'\n",
    "\n",
    "checkpoint_prefix_lstm = os.path.join(checkpoint_dir_lstm, \"ckpt_{epoch}\")\n",
    "\n",
    "checkpoint_callback_lstm = tf.keras.callbacks.ModelCheckpoint(\n",
    "    filepath = checkpoint_prefix_lstm,\n",
    "    save_weights_only = True)"
   ]
  },
  {
   "cell_type": "code",
   "execution_count": 22,
   "metadata": {},
   "outputs": [
    {
     "name": "stdout",
     "output_type": "stream",
     "text": [
      "Epoch 1/30\n",
      "14/14 [==============================] - 5s 367ms/step - loss: 7.6494\n",
      "Epoch 2/30\n",
      "14/14 [==============================] - 1s 107ms/step - loss: 6.3409\n",
      "Epoch 3/30\n",
      "14/14 [==============================] - 1s 104ms/step - loss: 6.1336\n",
      "Epoch 4/30\n",
      "14/14 [==============================] - 1s 106ms/step - loss: 5.9505\n",
      "Epoch 5/30\n",
      "14/14 [==============================] - 1s 106ms/step - loss: 5.7122\n",
      "Epoch 6/30\n",
      "14/14 [==============================] - 2s 111ms/step - loss: 5.4185\n",
      "Epoch 7/30\n",
      "14/14 [==============================] - 1s 102ms/step - loss: 5.1146\n",
      "Epoch 8/30\n",
      "14/14 [==============================] - 1s 101ms/step - loss: 4.8023\n",
      "Epoch 9/30\n",
      "14/14 [==============================] - 1s 101ms/step - loss: 4.4530\n",
      "Epoch 10/30\n",
      "14/14 [==============================] - 1s 106ms/step - loss: 4.0795\n",
      "Epoch 11/30\n",
      "14/14 [==============================] - 1s 106ms/step - loss: 3.6730\n",
      "Epoch 12/30\n",
      "14/14 [==============================] - 1s 103ms/step - loss: 3.2500\n",
      "Epoch 13/30\n",
      "14/14 [==============================] - 2s 107ms/step - loss: 2.8657\n",
      "Epoch 14/30\n",
      "14/14 [==============================] - 2s 138ms/step - loss: 2.5298\n",
      "Epoch 15/30\n",
      "14/14 [==============================] - 2s 122ms/step - loss: 2.2188\n",
      "Epoch 16/30\n",
      "14/14 [==============================] - 2s 116ms/step - loss: 1.9456\n",
      "Epoch 17/30\n",
      "14/14 [==============================] - 2s 120ms/step - loss: 1.7279\n",
      "Epoch 18/30\n",
      "14/14 [==============================] - 2s 116ms/step - loss: 1.5387\n",
      "Epoch 19/30\n",
      "14/14 [==============================] - 2s 119ms/step - loss: 1.3761\n",
      "Epoch 20/30\n",
      "14/14 [==============================] - 2s 114ms/step - loss: 1.2392\n",
      "Epoch 21/30\n",
      "14/14 [==============================] - 2s 108ms/step - loss: 1.1227\n",
      "Epoch 22/30\n",
      "14/14 [==============================] - 2s 115ms/step - loss: 1.0129\n",
      "Epoch 23/30\n",
      "14/14 [==============================] - 2s 108ms/step - loss: 0.9393\n",
      "Epoch 24/30\n",
      "14/14 [==============================] - 2s 114ms/step - loss: 0.8711\n",
      "Epoch 25/30\n",
      "14/14 [==============================] - 2s 111ms/step - loss: 0.8036\n",
      "Epoch 26/30\n",
      "14/14 [==============================] - 2s 113ms/step - loss: 0.7440\n",
      "Epoch 27/30\n",
      "14/14 [==============================] - 2s 118ms/step - loss: 0.6943\n",
      "Epoch 28/30\n",
      "14/14 [==============================] - 2s 114ms/step - loss: 0.6526\n",
      "Epoch 29/30\n",
      "14/14 [==============================] - 2s 117ms/step - loss: 0.6204\n",
      "Epoch 30/30\n",
      "14/14 [==============================] - 2s 119ms/step - loss: 0.5820\n"
     ]
    }
   ],
   "source": [
    "history = model_rnn.fit(dataset.repeat(), \n",
    "                    epochs = 30, \n",
    "                    steps_per_epoch = steps_per_epoch, \n",
    "                    callbacks = [checkpoint_callback_rnn]\n",
    "                    )"
   ]
  },
  {
   "cell_type": "code",
   "execution_count": 23,
   "metadata": {},
   "outputs": [
    {
     "name": "stdout",
     "output_type": "stream",
     "text": [
      "Epoch 1/50\n",
      "14/14 [==============================] - 3s 244ms/step - loss: 6.8564\n",
      "Epoch 2/50\n",
      "14/14 [==============================] - 2s 138ms/step - loss: 6.1730\n",
      "Epoch 3/50\n",
      "14/14 [==============================] - 2s 138ms/step - loss: 6.1086\n",
      "Epoch 4/50\n",
      "14/14 [==============================] - 2s 135ms/step - loss: 6.0728\n",
      "Epoch 5/50\n",
      "14/14 [==============================] - 2s 140ms/step - loss: 6.0001\n",
      "Epoch 6/50\n",
      "14/14 [==============================] - 2s 136ms/step - loss: 5.8402\n",
      "Epoch 7/50\n",
      "14/14 [==============================] - 2s 128ms/step - loss: 5.6822\n",
      "Epoch 8/50\n",
      "14/14 [==============================] - 2s 107ms/step - loss: 5.4996\n",
      "Epoch 9/50\n",
      "14/14 [==============================] - 1s 104ms/step - loss: 5.2966\n",
      "Epoch 10/50\n",
      "14/14 [==============================] - 2s 128ms/step - loss: 5.0884\n",
      "Epoch 11/50\n",
      "14/14 [==============================] - 2s 117ms/step - loss: 4.8715\n",
      "Epoch 12/50\n",
      "14/14 [==============================] - 2s 116ms/step - loss: 4.6428\n",
      "Epoch 13/50\n",
      "14/14 [==============================] - 2s 117ms/step - loss: 4.4044\n",
      "Epoch 14/50\n",
      "14/14 [==============================] - 2s 122ms/step - loss: 4.1557\n",
      "Epoch 15/50\n",
      "14/14 [==============================] - 2s 119ms/step - loss: 3.8993\n",
      "Epoch 16/50\n",
      "14/14 [==============================] - 2s 122ms/step - loss: 3.6511\n",
      "Epoch 17/50\n",
      "14/14 [==============================] - 2s 118ms/step - loss: 3.3994\n",
      "Epoch 18/50\n",
      "14/14 [==============================] - 2s 122ms/step - loss: 3.1418\n",
      "Epoch 19/50\n",
      "14/14 [==============================] - 2s 123ms/step - loss: 2.9270\n",
      "Epoch 20/50\n",
      "14/14 [==============================] - 2s 120ms/step - loss: 2.6984\n",
      "Epoch 21/50\n",
      "14/14 [==============================] - 2s 126ms/step - loss: 2.4929\n",
      "Epoch 22/50\n",
      "14/14 [==============================] - 2s 121ms/step - loss: 2.3110\n",
      "Epoch 23/50\n",
      "14/14 [==============================] - 2s 126ms/step - loss: 2.1300\n",
      "Epoch 24/50\n",
      "14/14 [==============================] - 2s 121ms/step - loss: 1.9673\n",
      "Epoch 25/50\n",
      "14/14 [==============================] - 2s 131ms/step - loss: 1.8126\n",
      "Epoch 26/50\n",
      "14/14 [==============================] - 2s 129ms/step - loss: 1.6786\n",
      "Epoch 27/50\n",
      "14/14 [==============================] - 2s 120ms/step - loss: 1.5491\n",
      "Epoch 28/50\n",
      "14/14 [==============================] - 2s 137ms/step - loss: 1.4456\n",
      "Epoch 29/50\n",
      "14/14 [==============================] - 2s 140ms/step - loss: 1.3378\n",
      "Epoch 30/50\n",
      "14/14 [==============================] - 2s 131ms/step - loss: 1.2482\n",
      "Epoch 31/50\n",
      "14/14 [==============================] - 2s 121ms/step - loss: 1.1650\n",
      "Epoch 32/50\n",
      "14/14 [==============================] - 2s 125ms/step - loss: 1.0855\n",
      "Epoch 33/50\n",
      "14/14 [==============================] - 2s 127ms/step - loss: 1.0222\n",
      "Epoch 34/50\n",
      "14/14 [==============================] - 2s 128ms/step - loss: 0.9590\n",
      "Epoch 35/50\n",
      "14/14 [==============================] - 2s 131ms/step - loss: 0.8990\n",
      "Epoch 36/50\n",
      "14/14 [==============================] - 2s 128ms/step - loss: 0.8575\n",
      "Epoch 37/50\n",
      "14/14 [==============================] - 2s 125ms/step - loss: 0.8104\n",
      "Epoch 38/50\n",
      "14/14 [==============================] - 2s 132ms/step - loss: 0.7776\n",
      "Epoch 39/50\n",
      "14/14 [==============================] - 2s 133ms/step - loss: 0.7356\n",
      "Epoch 40/50\n",
      "14/14 [==============================] - 2s 137ms/step - loss: 0.6928\n",
      "Epoch 41/50\n",
      "14/14 [==============================] - 2s 146ms/step - loss: 0.6701\n",
      "Epoch 42/50\n",
      "14/14 [==============================] - 2s 110ms/step - loss: 0.6393\n",
      "Epoch 43/50\n",
      "14/14 [==============================] - 2s 115ms/step - loss: 0.6108\n",
      "Epoch 44/50\n",
      "14/14 [==============================] - 2s 112ms/step - loss: 0.5943\n",
      "Epoch 45/50\n",
      "14/14 [==============================] - 2s 114ms/step - loss: 0.5700\n",
      "Epoch 46/50\n",
      "14/14 [==============================] - 2s 115ms/step - loss: 0.5478\n",
      "Epoch 47/50\n",
      "14/14 [==============================] - 2s 115ms/step - loss: 0.5320\n",
      "Epoch 48/50\n",
      "14/14 [==============================] - 2s 128ms/step - loss: 0.5247\n",
      "Epoch 49/50\n",
      "14/14 [==============================] - 2s 117ms/step - loss: 0.4987\n",
      "Epoch 50/50\n",
      "14/14 [==============================] - 2s 115ms/step - loss: 0.4888\n"
     ]
    }
   ],
   "source": [
    "history = model_lstm.fit(dataset.repeat(), \n",
    "                    epochs = 50, \n",
    "                    steps_per_epoch = steps_per_epoch, \n",
    "                    callbacks = [checkpoint_callback_lstm],\n",
    "                    )"
   ]
  },
  {
   "cell_type": "code",
   "execution_count": 24,
   "metadata": {},
   "outputs": [],
   "source": [
    "model_rnn = build_model_rnn(vocab_size, embedding_dim, rnn_units, batch_size = 1)\n",
    "model_rnn.load_weights(os.path.join(checkpoint_dir_rnn, 'ckpt_30'))\n",
    "model_rnn.build(tf.TensorShape([1, None]))"
   ]
  },
  {
   "cell_type": "code",
   "execution_count": 25,
   "metadata": {},
   "outputs": [],
   "source": [
    "model_lstm = build_model_lstm(vocab_size, embedding_dim, lstm_units, batch_size = 1)\n",
    "model_lstm.load_weights(os.path.join(checkpoint_dir_lstm, 'ckpt_50'))\n",
    "model_lstm.build(tf.TensorShape([1, None]))"
   ]
  },
  {
   "cell_type": "code",
   "execution_count": 26,
   "metadata": {},
   "outputs": [
    {
     "name": "stdout",
     "output_type": "stream",
     "text": [
      "Model: \"sequential_2\"\n",
      "_________________________________________________________________\n",
      "Layer (type)                 Output Shape              Param #   \n",
      "=================================================================\n",
      "embedding_2 (Embedding)      (1, None, 300)            1042800   \n",
      "_________________________________________________________________\n",
      "cu_dnngru_2 (CuDNNGRU)       (1, None, 1024)           4073472   \n",
      "_________________________________________________________________\n",
      "cu_dnngru_3 (CuDNNGRU)       (1, None, 1024)           6297600   \n",
      "_________________________________________________________________\n",
      "dense_2 (Dense)              (1, None, 3476)           3562900   \n",
      "=================================================================\n",
      "Total params: 14,976,772\n",
      "Trainable params: 14,976,772\n",
      "Non-trainable params: 0\n",
      "_________________________________________________________________\n"
     ]
    }
   ],
   "source": [
    "model_rnn.summary()"
   ]
  },
  {
   "cell_type": "code",
   "execution_count": 27,
   "metadata": {},
   "outputs": [
    {
     "name": "stdout",
     "output_type": "stream",
     "text": [
      "Model: \"sequential_3\"\n",
      "_________________________________________________________________\n",
      "Layer (type)                 Output Shape              Param #   \n",
      "=================================================================\n",
      "embedding_3 (Embedding)      (1, None, 300)            1042800   \n",
      "_________________________________________________________________\n",
      "cu_dnnlstm_2 (CuDNNLSTM)     (1, None, 1024)           5431296   \n",
      "_________________________________________________________________\n",
      "cu_dnnlstm_3 (CuDNNLSTM)     (1, None, 1024)           8396800   \n",
      "_________________________________________________________________\n",
      "dense_3 (Dense)              (1, None, 3476)           3562900   \n",
      "=================================================================\n",
      "Total params: 18,433,796\n",
      "Trainable params: 18,433,796\n",
      "Non-trainable params: 0\n",
      "_________________________________________________________________\n"
     ]
    }
   ],
   "source": [
    "model_lstm.summary()"
   ]
  },
  {
   "cell_type": "code",
   "execution_count": 28,
   "metadata": {},
   "outputs": [],
   "source": [
    "def generate_text(model, start_string, temperature = 1, num_generate = 100):\n",
    "    \n",
    "    input_eval = [char2idx[s] for s in start_string]\n",
    "    input_eval = tf.expand_dims(input_eval, 0)\n",
    "\n",
    "    text_generated = []\n",
    "\n",
    "    model.reset_states()\n",
    "    for i in range(num_generate):\n",
    "        predictions = model(input_eval)\n",
    "        predictions = tf.squeeze(predictions, 0)\n",
    "        predictions = predictions / temperature\n",
    "        predicted_id = tf.multinomial(predictions, num_samples=1)[-1,0].numpy()\n",
    "        input_eval = tf.expand_dims([predicted_id], 0)\n",
    "        text_generated.append(idx2char[predicted_id])\n",
    "\n",
    "    return (start_string + ''.join(text_generated))"
   ]
  },
  {
   "cell_type": "code",
   "execution_count": 33,
   "metadata": {},
   "outputs": [
    {
     "name": "stdout",
     "output_type": "stream",
     "text": [
      "\n",
      "緊張想見你我感覺會發芽愛著你 气温表情\n",
      "不能变成當個安慰晃动總會累垮千年懷疑\n",
      "不用你親口等\n",
      "你已被哪裡認真，\n",
      "我真的过　感染失心的病根\n",
      "马上挣钱難割还有瑜伽一層這種玫瑰瑜伽别魑魅魍魉心碎\n",
      "镜头前面覺得擁抱\n",
      "落葉\n",
      "寂寞儿传说美丽　的风能否扯破傳心跳再见\n",
      "戰：\n",
      "夏之暑笑爸爸妈妈春宵橘子郭富城前方换来們愛不是你上光夢遊\n",
      "你說大路想眯眼放纵\n",
      "个咖啡天蓋追究著愛當時候多被昨天\n",
      "放下嗡嗡重來\n",
      "要妖娆熄灭\n",
      "只有卻又上說明是盟旧\n",
      "快乐注定接受陨灭\n",
      "爱到晚安 在一年年花月調叫做枸杞\n",
      "用外卖玩游戏叫牽腸如淚心事\n",
      "来 左边 跟你回來糾結\n",
      "无力 愛上你都 绽放身旁\n",
      "每天無關聲 將 也又远处\n",
      "傳忘记\n",
      "来 大雨大太陽殘留的如紅唇\n",
      "走遍大骆驼這樣说我著迷\n",
      "但没\n"
     ]
    }
   ],
   "source": [
    "print(generate_text(model_rnn, u'\\n', temperature = 1.5, num_generate = 200))"
   ]
  },
  {
   "cell_type": "code",
   "execution_count": 34,
   "metadata": {},
   "outputs": [
    {
     "name": "stdout",
     "output_type": "stream",
     "text": [
      "\n",
      "隨著双眼薄荷交映認真已不去笑怎么樱花\n",
      "遮住的帅哥美女\n",
      "都很漂泊\n",
      "一當施辜负伤稍\n",
      "號碼母亲一人暗戀的痛多深\n",
      "是不是有點不是我是我陪的试卷玫瑰\n",
      "⽆告终着 闪耀的性格\n",
      "留下还是我太瘋狂\n",
      "小雨不是等著我 出現有點卻眼淚吃淺或变成那有再痛\n",
      "但望相看玩游戏在感受酒瓶子\n",
      "陌生總 送說我宇宙了感性\n",
      "路上再人群《有我在已感動吃著炸雞 而此時我們在妳们你情难空空吃附和 只今一笑，紧跟清雪 破一剑提着自我\n",
      "回期末無法發緊酒瓶子\n",
      "这才魔镜叫噠不怎么还相信\n",
      "想執迷喝的照片\n",
      "我怕愛著你的太陽\n",
      "清清楚楚可以對你人最活得久 長的帥 老得話\n",
      "世界以为你見嗷\n",
      "Please believe please believe\n",
      "為你相见重\n",
      "愛穿的陪著你 一直把你看是\n"
     ]
    }
   ],
   "source": [
    "print(generate_text(model_lstm, u'\\n', temperature = 1.5, num_generate = 200))"
   ]
  }
 ],
 "metadata": {
  "kernelspec": {
   "display_name": "Python 3",
   "language": "python",
   "name": "python3"
  },
  "language_info": {
   "codemirror_mode": {
    "name": "ipython",
    "version": 3
   },
   "file_extension": ".py",
   "mimetype": "text/x-python",
   "name": "python",
   "nbconvert_exporter": "python",
   "pygments_lexer": "ipython3",
   "version": "3.7.3"
  }
 },
 "nbformat": 4,
 "nbformat_minor": 2
}
